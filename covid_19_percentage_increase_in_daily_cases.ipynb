import pandas as pd
import matplotlib.pyplot as plt

df = pd.read_csv('daily-cases-covid-19.csv')
df.columns
df.rename(columns={'Daily confirmed cases (cases)':'Daily'},inplace=True)
df.columns
df['Date'] =pd.to_datetime(df['Date'])
df.set_index('Date',inplace=True)
df = df[ df['Daily'] != 0]
usa_df = df[df['Code']== 'USA'].copy()
usa_df['Percent Change'] = usa_df['Daily'].pct_change() * 100
usa_df.dropna(inplace=True)

ax = usa_df['Percent Change'].plot(title='Percentage Change in daily cases in USA',ylim=(-70,150),xlim=('2020-03-03','2020-07-02')).set_ylabel('Percentage Increase')

