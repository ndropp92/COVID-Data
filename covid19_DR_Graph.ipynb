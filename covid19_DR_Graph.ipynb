import pandas as pd
 
ndf = pd.read_csv('full_grouped.csv')
#convert Date to something more readable for pandas
ndf['Date'] = pd.to_datetime(ndf['Date'])
#if the deaths are 0 we do not have a death rate
ndf = ndf[ndf.Deaths != 0]
ndf.set_index('Date',inplace=True)
#get rid of un-needed columns 
ndf.drop(columns=['WHO Region','Recovered','Active','New cases','New deaths','New recovered'],inplace=True)
#create 'Death Rate' column
ndf['Death Rate'] = ndf['Deaths']/ndf['Confirmed']
# create dataframes to graph
usa_df = ndf.copy()[ndf['Country/Region']=='US']
canada_df = ndf.copy()[ndf['Country/Region']== 'Canada']
italy_df = ndf.copy()[ndf['Country/Region']=='Italy']
#PLOT Graph
usa_df['Death Rate'].plot(legend=True,label='US').set_ylabel('Death Rate')
italy_df['Death Rate'].plot(legend=True,label='Italy')
canada_df['Death Rate'].plot(title='Canada Vs US Vs Italy COVID-19 Death Rate Over Time',legend=True,label='Canada')
